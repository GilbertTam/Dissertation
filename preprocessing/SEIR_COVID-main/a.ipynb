{
 "cells": [
  {
   "cell_type": "code",
   "execution_count": 64,
   "metadata": {},
   "outputs": [],
   "source": [
    "import pandas as pd\n",
    "import numpy as np\n",
    "import os"
   ]
  },
  {
   "cell_type": "code",
   "execution_count": 15,
   "metadata": {},
   "outputs": [],
   "source": [
    "file_paths = [f.path for f in os.scandir(\"npi\")]"
   ]
  },
  {
   "cell_type": "code",
   "execution_count": 115,
   "metadata": {},
   "outputs": [
    {
     "name": "stdout",
     "output_type": "stream",
     "text": [
      "Day                                object\n",
      "testing_policy                      int64\n",
      "contact_tracing                     int64\n",
      "vaccination_policy                  int64\n",
      "vaccine_availability                int64\n",
      "debt_relief                         int64\n",
      "facial_coverings                    int64\n",
      "income_support                      int64\n",
      "restrictions_internal_movements     int64\n",
      "international_travel_controls       int64\n",
      "public_information_campaigns        int64\n",
      "cancel_public_events                int64\n",
      "restriction_gatherings              int64\n",
      "close_public_transport              int64\n",
      "school_closures                     int64\n",
      "stay_home_requirements              int64\n",
      "workplace_closures                  int64\n",
      "vaccine_eligibility_age             int64\n",
      "dtype: object\n",
      "             Day  testing_policy  contact_tracing  vaccination_policy  \\\n",
      "0     2020-01-01               0                0                   0   \n",
      "1     2020-01-02               0                0                   0   \n",
      "2     2020-01-03               0                0                   0   \n",
      "3     2020-01-04               0                0                   0   \n",
      "4     2020-01-05               0                0                   0   \n",
      "...          ...             ...              ...                 ...   \n",
      "1037  2022-11-03               2                2                   5   \n",
      "1038  2022-11-04               2                2                   5   \n",
      "1039  2022-11-05               2                2                   5   \n",
      "1040  2022-11-06               2                2                   5   \n",
      "1041  2022-11-07               2                2                   5   \n",
      "\n",
      "      vaccine_availability  debt_relief  facial_coverings  income_support  \\\n",
      "0                        0            0                 0               0   \n",
      "1                        0            0                 0               0   \n",
      "2                        0            0                 0               0   \n",
      "3                        0            0                 0               0   \n",
      "4                        0            0                 0               0   \n",
      "...                    ...          ...               ...             ...   \n",
      "1037                     3            1                 2               2   \n",
      "1038                     3            1                 2               2   \n",
      "1039                     3            1                 2               2   \n",
      "1040                     3            1                 2               2   \n",
      "1041                     3            1                 2               2   \n",
      "\n",
      "      restrictions_internal_movements  international_travel_controls  \\\n",
      "0                                   0                              0   \n",
      "1                                   0                              0   \n",
      "2                                   0                              0   \n",
      "3                                   0                              0   \n",
      "4                                   0                              0   \n",
      "...                               ...                            ...   \n",
      "1037                                0                              0   \n",
      "1038                                0                              0   \n",
      "1039                                0                              0   \n",
      "1040                                0                              0   \n",
      "1041                                0                              0   \n",
      "\n",
      "      public_information_campaigns  cancel_public_events  \\\n",
      "0                                0                     0   \n",
      "1                                0                     0   \n",
      "2                                0                     0   \n",
      "3                                0                     0   \n",
      "4                                0                     0   \n",
      "...                            ...                   ...   \n",
      "1037                             2                     0   \n",
      "1038                             2                     0   \n",
      "1039                             2                     0   \n",
      "1040                             2                     0   \n",
      "1041                             2                     0   \n",
      "\n",
      "      restriction_gatherings  close_public_transport  school_closures  \\\n",
      "0                          0                       0               -1   \n",
      "1                          0                       0               -1   \n",
      "2                          0                       0               -1   \n",
      "3                          0                       0               -1   \n",
      "4                          0                       0               -1   \n",
      "...                      ...                     ...              ...   \n",
      "1037                       0                       0               -1   \n",
      "1038                       0                       0               -1   \n",
      "1039                       0                       0               -1   \n",
      "1040                       0                       0               -1   \n",
      "1041                       0                       0               -1   \n",
      "\n",
      "      stay_home_requirements  workplace_closures  vaccine_eligibility_age  \n",
      "0                          0                   0                       -1  \n",
      "1                          0                   0                       -1  \n",
      "2                          0                   0                       -1  \n",
      "3                          0                   0                       -1  \n",
      "4                          0                   0                       -1  \n",
      "...                      ...                 ...                      ...  \n",
      "1037                       0                  -1                        5  \n",
      "1038                       0                  -1                        5  \n",
      "1039                       0                  -1                        5  \n",
      "1040                       0                  -1                        5  \n",
      "1041                       0                  -1                        5  \n",
      "\n",
      "[1042 rows x 18 columns]\n"
     ]
    }
   ],
   "source": [
    "features = None\n",
    "\n",
    "for file_path in file_paths:\n",
    "    df = pd.read_csv(file_path)\n",
    "    df = df[df.Entity == 'Israel']\n",
    "    df = df.iloc[:,-2:]\n",
    "    if type(features) is pd.DataFrame:\n",
    "        features = features.merge(df, how='outer')\n",
    "    else:\n",
    "        features = df\n",
    "    #df = df[['Day', 'testing_policy']]\n",
    "\n",
    "features = features.fillna(-1)\n",
    "need_casting = ['school_closures', 'workplace_closures', 'vaccine_eligibility_age']\n",
    "for foo in need_casting:\n",
    "    features[foo] = features[foo].astype(np.int64)\n",
    "print(features.dtypes)\n",
    "print(features)"
   ]
  },
  {
   "cell_type": "code",
   "execution_count": 124,
   "metadata": {},
   "outputs": [],
   "source": [
    "#features['Day'] = pd.to_datetime(df['Day'], format=\"%Y-%m-%d\")\n",
    "#train = features.query(\"Day > '2020-03-02' and Day <= '2021-06-14'\")\n",
    "train = features[(features['Day'] > '2020-03-02') & (features['Day'] <= '2021-06-14')]\n",
    "test = features[(features['Day'] > '2021-06-14') & (features['Day'] <= '2021-11-14')]\n",
    "#train = features"
   ]
  },
  {
   "cell_type": "code",
   "execution_count": null,
   "metadata": {},
   "outputs": [],
   "source": [
    "train.to_csv(\"train.csv\", index=False)\n",
    "test.to_csv(\"test.csv\", index=False)"
   ]
  }
 ],
 "metadata": {
  "kernelspec": {
   "display_name": "Python 3.10.0 64-bit",
   "language": "python",
   "name": "python3"
  },
  "language_info": {
   "codemirror_mode": {
    "name": "ipython",
    "version": 3
   },
   "file_extension": ".py",
   "mimetype": "text/x-python",
   "name": "python",
   "nbconvert_exporter": "python",
   "pygments_lexer": "ipython3",
   "version": "3.10.0"
  },
  "orig_nbformat": 4,
  "vscode": {
   "interpreter": {
    "hash": "06e03e42e597b5f9bbde1eaa07e2d79a4615660b5ba963eb680d5caa7003dc90"
   }
  }
 },
 "nbformat": 4,
 "nbformat_minor": 2
}
